{
 "cells": [
  {
   "cell_type": "code",
   "execution_count": 1,
   "id": "5248b0d2-c8d2-4299-83c4-983de5d2b3c9",
   "metadata": {
    "execution": {
     "iopub.execute_input": "2022-06-01T12:45:22.397117Z",
     "iopub.status.busy": "2022-06-01T12:45:22.396461Z",
     "iopub.status.idle": "2022-06-01T12:45:22.709230Z",
     "shell.execute_reply": "2022-06-01T12:45:22.708670Z",
     "shell.execute_reply.started": "2022-06-01T12:45:22.397056Z"
    },
    "tags": []
   },
   "outputs": [],
   "source": [
    "import os\n",
    "import kfp\n",
    "from kfp import dsl"
   ]
  },
  {
   "cell_type": "code",
   "execution_count": 2,
   "id": "1d4cacdb-0a83-4c18-9460-31cf1937f4cf",
   "metadata": {
    "execution": {
     "iopub.execute_input": "2022-06-01T12:45:24.066465Z",
     "iopub.status.busy": "2022-06-01T12:45:24.065880Z",
     "iopub.status.idle": "2022-06-01T12:45:24.069107Z",
     "shell.execute_reply": "2022-06-01T12:45:24.068554Z",
     "shell.execute_reply.started": "2022-06-01T12:45:24.066440Z"
    },
    "tags": []
   },
   "outputs": [],
   "source": [
    "domain = \"kubeflow.at.onplural.sh\""
   ]
  },
  {
   "cell_type": "code",
   "execution_count": 3,
   "id": "e303756a-2353-4aec-8043-0c8ee21c1b98",
   "metadata": {
    "execution": {
     "iopub.execute_input": "2022-06-01T12:45:25.226179Z",
     "iopub.status.busy": "2022-06-01T12:45:25.225842Z",
     "iopub.status.idle": "2022-06-01T12:45:25.237091Z",
     "shell.execute_reply": "2022-06-01T12:45:25.236658Z",
     "shell.execute_reply.started": "2022-06-01T12:45:25.226158Z"
    },
    "tags": []
   },
   "outputs": [],
   "source": [
    "def read_token_from_file(path=None):\n",
    "    \"\"\"Read a token found in some file.\"\"\"\n",
    "    token = None\n",
    "    with open(path, \"r\") as f:\n",
    "        token = f.read().strip()\n",
    "    return token\n",
    "\n",
    "class ClientV2(kfp.Client):\n",
    "    def _get_url_prefix(self):\n",
    "        return f\"https://{domain}/_/pipeline\"\n",
    "\n",
    "client = ClientV2(\n",
    "    host='http://kubeflow-pipelines-api-server.kubeflow.svc.cluster.local:8888',\n",
    "    existing_token=read_token_from_file(path=os.getenv('KF_PIPELINES_SA_TOKEN_PATH'))\n",
    ")"
   ]
  },
  {
   "cell_type": "code",
   "execution_count": 7,
   "id": "e1443c07-4220-49dc-8ee6-8b7098974bba",
   "metadata": {
    "execution": {
     "iopub.execute_input": "2022-06-01T12:55:23.756619Z",
     "iopub.status.busy": "2022-06-01T12:55:23.755972Z",
     "iopub.status.idle": "2022-06-01T12:55:23.761238Z",
     "shell.execute_reply": "2022-06-01T12:55:23.760648Z",
     "shell.execute_reply.started": "2022-06-01T12:55:23.756598Z"
    },
    "tags": []
   },
   "outputs": [],
   "source": [
    "namespace = os.environ[\"NAMESPACE\"]\n",
    "docker_image = \"ghcr.io/opengptx/spark/python:pr-10\"\n",
    "\n",
    "def get_resource(\n",
    "        application_file : str,\n",
    "        driver_cores: int,\n",
    "        driver_memory_gb: int,\n",
    "        executor_instances: int,\n",
    "        executor_cores: int,\n",
    "        executor_memory_gb: int,\n",
    "    ):\n",
    "    resource = {\n",
    "        \"apiVersion\": \"sparkoperator.k8s.io/v1beta2\",\n",
    "        \"kind\": \"SparkApplication\",\n",
    "        \"metadata\": {\n",
    "            \"name\": \"spark-kfp\",\n",
    "            \"namespace\": namespace,\n",
    "        },\n",
    "        \"spec\": {\n",
    "            \"type\": \"Python\",\n",
    "            \"mode\": \"cluster\",\n",
    "            \"image\": docker_image,\n",
    "            \"imagePullPolicy\": \"Always\",\n",
    "            \"mainApplicationFile\": application_file,\n",
    "            \"sparkVersion\": \"3.2.1\",\n",
    "            \"restartPolicy\": {\n",
    "                \"type\": \"Never\"\n",
    "            },\n",
    "            \"sparkConf\": {\n",
    "                    \"spark.hadoop.fs.s3a.impl\": \"org.apache.hadoop.fs.s3a.S3AFileSystem\",\n",
    "                    \"spark.hadoop.fs.s3a.aws.credentials.provider\": \"com.amazonaws.auth.WebIdentityTokenCredentialsProvider\"\n",
    "            },\n",
    "            \"driver\": {\n",
    "                \"cores\": driver_cores,\n",
    "                \"coreLimit\": f\"{1200*driver_cores}m\",\n",
    "                \"memory\": f\"{driver_memory_gb}G\",\n",
    "                \"labels\": {\n",
    "                    \"version\": \"3.2.1\",\n",
    "                },\n",
    "                \"serviceAccount\": \"default-editor\",\n",
    "            },\n",
    "            \"executor\": {\n",
    "                \"cores\": executor_cores,\n",
    "                \"instances\": executor_instances,\n",
    "                \"memory\": f\"{executor_memory_gb}G\",\n",
    "            },\n",
    "        }\n",
    "    }\n",
    "\n",
    "    return resource"
   ]
  },
  {
   "cell_type": "code",
   "execution_count": 8,
   "id": "f2e684b7-3151-4877-9da9-6c4edaacd7a7",
   "metadata": {
    "execution": {
     "iopub.execute_input": "2022-06-01T12:55:29.039669Z",
     "iopub.status.busy": "2022-06-01T12:55:29.039040Z",
     "iopub.status.idle": "2022-06-01T12:55:29.043905Z",
     "shell.execute_reply": "2022-06-01T12:55:29.043436Z",
     "shell.execute_reply.started": "2022-06-01T12:55:29.039642Z"
    },
    "tags": []
   },
   "outputs": [],
   "source": [
    "@dsl.pipeline(name=\"spark_pipeline\", description=\"Spark KFP Example\")\n",
    "def local_pipeline():\n",
    "    step1 = dsl.ResourceOp(\n",
    "        name=\"Create Numbers Dataframe\",\n",
    "        k8s_resource=get_resource(\n",
    "            application_file=\"local:///opt/spark/examples/num.py\",\n",
    "            driver_cores=1,\n",
    "            driver_memory_gb=1,\n",
    "            executor_instances=1,\n",
    "            executor_cores=1,\n",
    "            executor_memory_gb=1\n",
    "        ),\n",
    "        action=\"apply\",\n",
    "        success_condition=\"status.applicationState.state == COMPLETED\"\n",
    "    )\n",
    "\n",
    "    step2 = dsl.ResourceOp(\n",
    "        name=\"Square the Numbers\",\n",
    "        k8s_resource=get_resource(\n",
    "            application_file=\"local:///opt/spark/examples/num_squared.py\",\n",
    "            driver_cores=1,\n",
    "            driver_memory_gb=1,\n",
    "            executor_instances=1,\n",
    "            executor_cores=1,\n",
    "            executor_memory_gb=1\n",
    "        ),\n",
    "        action=\"apply\",\n",
    "        success_condition=\"status.applicationState.state == COMPLETED\"\n",
    "    ).after(step1).delete()"
   ]
  },
  {
   "cell_type": "code",
   "execution_count": 9,
   "id": "9b00159e-5c4f-44d3-8e80-28525ec603c4",
   "metadata": {
    "execution": {
     "iopub.execute_input": "2022-06-01T12:55:30.651645Z",
     "iopub.status.busy": "2022-06-01T12:55:30.651168Z",
     "iopub.status.idle": "2022-06-01T12:55:30.787860Z",
     "shell.execute_reply": "2022-06-01T12:55:30.787291Z",
     "shell.execute_reply.started": "2022-06-01T12:55:30.651625Z"
    },
    "tags": []
   },
   "outputs": [
    {
     "name": "stderr",
     "output_type": "stream",
     "text": [
      "/opt/conda/lib/python3.8/site-packages/kfp/dsl/_container_op.py:1257: FutureWarning: Please create reusable components instead of constructing ContainerOp instances directly. Reusable components are shareable, portable and have compatibility and support guarantees. Please see the documentation: https://www.kubeflow.org/docs/pipelines/sdk/component-development/#writing-your-component-definition-file The components can be created manually (or, in case of python, using kfp.components.create_component_from_func or func_to_container_op) and then loaded using kfp.components.load_component_from_file, load_component_from_uri or load_component_from_text: https://kubeflow-pipelines.readthedocs.io/en/stable/source/kfp.components.html#kfp.components.load_component_from_file\n",
      "  warnings.warn(\n"
     ]
    },
    {
     "data": {
      "text/html": [
       "<a href=\"https://kubeflow.at.onplural.sh/_/pipeline/#/experiments/details/dfcdac67-adc5-4fa7-8ed4-64009495c43f\" target=\"_blank\" >Experiment details</a>."
      ],
      "text/plain": [
       "<IPython.core.display.HTML object>"
      ]
     },
     "metadata": {},
     "output_type": "display_data"
    },
    {
     "data": {
      "text/html": [
       "<a href=\"https://kubeflow.at.onplural.sh/_/pipeline/#/runs/details/141a6138-5b2d-484f-ada2-800e4704191e\" target=\"_blank\" >Run details</a>."
      ],
      "text/plain": [
       "<IPython.core.display.HTML object>"
      ]
     },
     "metadata": {},
     "output_type": "display_data"
    },
    {
     "name": "stdout",
     "output_type": "stream",
     "text": [
      "Kubeflow Pipelines run id: 141a6138-5b2d-484f-ada2-800e4704191e\n"
     ]
    }
   ],
   "source": [
    "run = client.create_run_from_pipeline_func(\n",
    "    local_pipeline,\n",
    "    namespace=namespace,\n",
    "    arguments={},\n",
    "    experiment_name=\"Spark KFP Test\",\n",
    ")\n",
    "print(\"Kubeflow Pipelines run id: {}\".format(run.run_id))"
   ]
  },
  {
   "cell_type": "code",
   "execution_count": null,
   "id": "0c8eb78d-fb1e-4c92-83d7-76549b632af9",
   "metadata": {},
   "outputs": [],
   "source": []
  }
 ],
 "metadata": {
  "kernelspec": {
   "display_name": "Python 3 (ipykernel)",
   "language": "python",
   "name": "python3"
  },
  "language_info": {
   "codemirror_mode": {
    "name": "ipython",
    "version": 3
   },
   "file_extension": ".py",
   "mimetype": "text/x-python",
   "name": "python",
   "nbconvert_exporter": "python",
   "pygments_lexer": "ipython3",
   "version": "3.8.10"
  }
 },
 "nbformat": 4,
 "nbformat_minor": 5
}
